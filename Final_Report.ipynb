{
 "cells": [
  {
   "cell_type": "markdown",
   "metadata": {},
   "source": [
    "# Project Report"
   ]
  },
  {
   "cell_type": "markdown",
   "metadata": {},
   "source": [
    "## Extract"
   ]
  },
  {
   "cell_type": "markdown",
   "metadata": {},
   "source": [
    "The firststep in our data analysis was to extract the data from our frimary datasources.  The primary datasources for this project was:\n",
    "    *Kaggle\n",
    "    *OpenWeatherMap.org\n",
    "    \n",
    "We retrieved the Olympic data from Kaggle.  The data was already in CSV format when downloaded, so there was not need to convert the data into any other format.  The OpenWeatherMap data had to be downloaded in JSON format via the OpenWeatherMap hitoric weather API.  Once the JSON was recieved, we had to convert the file into CSV for further processing.\n"
   ]
  },
  {
   "cell_type": "markdown",
   "metadata": {},
   "source": [
    "## Transform"
   ]
  },
  {
   "cell_type": "markdown",
   "metadata": {},
   "source": [
    "Basic transformations:\n",
    "\n",
    "Cleaning: Utilized Pandas to clan both the Olympic data as well as the Weather data.  Changed any null or Nan value to \"0\".  The data in general did not need extensive cleaning due to the sources of data.  The weather data from OpenWeatherMap was imported using a JSON format which yielded clen complete data.\n",
    "\n",
    "Deduplication: Again we utilized Pandas to review and delete any dupicate data.  We did not find ny duplicates in data.\n",
    "\n",
    "Format revision: Changed the date format in the weather data from unix date formate to datetime.date format so that we can utilize the date as a join in the database.\n",
    "\n",
    "Key restructuring: Establishing key relationships across tables utilizing the following fields:\n",
    "\n",
    "    1.Table \"games\"  Field???\n",
    "    2.Table \"sports\" Field???\n",
    "    3.Table \"events\"  Field???\n",
    "    4.Table \"teams\"   Field ????\n",
    "    5.Table \"table_athletes  Field ????\n",
    "    6.Table \"medals\"  Field ????\n",
    "    7.Table \"weather\"   Field \"date\"\n",
    "\n",
    "Aggregation: Since we are using a MySQL relational database wil will be using multiple full joins to aggregate the data.\n",
    "\n",
    "Integration: All data was normalized and uploaded to the MSQL database.  A complete list of tables are noted below:\n",
    "\n",
    "    games create table games (games_id mediumint not null auto_increment, year int, city_name varchar(100), primary key(games_id));\n",
    "\n",
    "    sports create table sports (sports_id mediumint not null auto_increment, sports_name varchar(100), primary key(sports_id));\n",
    "\n",
    "    events create table events (events_id mediumint not null auto_increment, events_name varchar(100), primary key(events_id));\n",
    "\n",
    "    teams create table teams (teams_id mediumint not null auto_increment, teams_name varchar(100), primary key(teams_id));\n",
    "\n",
    "    athletes create table athletes (athletes_id mediumint not null auto_increment, athletes_name varchar(100), athletes_sex varchar(100), athletes_age int, primary key (athletes_id));\n",
    "\n",
    "    medals create table medals (medals_id mediumint not null auto_increment, medal_name varchar(100), games_id int, sports_id int, events_id int, teams_id int, athletes_id int, primary key(medals_id));\n",
    "\n",
    "    weather create table weather (weather_id medium int not null auto_increment, city varchar(50), date date, avg_temp smallint, avg_precip smallint);"
   ]
  },
  {
   "cell_type": "markdown",
   "metadata": {},
   "source": [
    "## Load"
   ]
  },
  {
   "cell_type": "markdown",
   "metadata": {},
   "source": [
    "We loaded the data into the MySQL databse through an initial load.  Once we loaded the data, we processed multiple data validation tests to ensure that all of the data was transferred as intended.  Next we processed a few test models to make sure that the data will be yield the data we were anticipating.  Through this process we were able to validate tha the data was loaded properly and is usable for our data analysis.  \n",
    "\n",
    "Although our data set was not large nor was it exteremly complicated, we did take measures to ensure we had backups of the data and models used in case there was an unintended loss of data.  "
   ]
  },
  {
   "cell_type": "markdown",
   "metadata": {},
   "source": [
    "## Final Analysis"
   ]
  },
  {
   "cell_type": "markdown",
   "metadata": {},
   "source": []
  }
 ],
 "metadata": {
  "kernelspec": {
   "display_name": "Python 3",
   "language": "python",
   "name": "python3"
  },
  "language_info": {
   "codemirror_mode": {
    "name": "ipython",
    "version": 3
   },
   "file_extension": ".py",
   "mimetype": "text/x-python",
   "name": "python",
   "nbconvert_exporter": "python",
   "pygments_lexer": "ipython3",
   "version": "3.6.6"
  }
 },
 "nbformat": 4,
 "nbformat_minor": 2
}
